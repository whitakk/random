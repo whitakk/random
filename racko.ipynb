{
 "cells": [
  {
   "cell_type": "markdown",
   "metadata": {},
   "source": [
    "In the card game Racko, how likely are you to be dealt a winning hand immediately?"
   ]
  },
  {
   "cell_type": "code",
   "execution_count": 1,
   "metadata": {},
   "outputs": [],
   "source": [
    "import numpy as np\n",
    "import random as r"
   ]
  },
  {
   "cell_type": "code",
   "execution_count": 2,
   "metadata": {},
   "outputs": [],
   "source": [
    "# generate random Racko hand\n",
    "def gen_hand(n):\n",
    "    hand = []\n",
    "    while len(hand) < 10:\n",
    "        card = r.randint(1,60)\n",
    "        if card not in hand:\n",
    "            hand.append(card)\n",
    "\n",
    "    return hand"
   ]
  },
  {
   "cell_type": "code",
   "execution_count": 3,
   "metadata": {},
   "outputs": [],
   "source": [
    "def get_hands(n):\n",
    "    many_hands = []\n",
    "    for i in range(n):\n",
    "        many_hands.append(gen_hand(10))\n",
    "    \n",
    "    return many_hands"
   ]
  },
  {
   "cell_type": "code",
   "execution_count": 4,
   "metadata": {},
   "outputs": [],
   "source": [
    "# check if Racko achieved (all cards in ascending order)\n",
    "def check_racko(hand):\n",
    "    length = len(hand)\n",
    "    for i in range(1,length):\n",
    "        if hand[i] < hand[i-1]:\n",
    "            return 0\n",
    "        \n",
    "    return 1"
   ]
  },
  {
   "cell_type": "code",
   "execution_count": 5,
   "metadata": {
    "scrolled": true
   },
   "outputs": [
    {
     "name": "stdout",
     "output_type": "stream",
     "text": [
      "Chance of being dealt Racko: 2e-07\n"
     ]
    }
   ],
   "source": [
    "#%%time\n",
    "# RUN MASTER:\n",
    "hands = get_hands(10000000)\n",
    "rackos = []\n",
    "for h in hands:\n",
    "    rackos.append(check_racko(h))\n",
    "    \n",
    "print (\"Chance of being dealt Racko: \" + str(np.mean(rackos)))"
   ]
  },
  {
   "cell_type": "code",
   "execution_count": null,
   "metadata": {},
   "outputs": [],
   "source": []
  },
  {
   "cell_type": "markdown",
   "metadata": {},
   "source": [
    "#### Debugging"
   ]
  },
  {
   "cell_type": "code",
   "execution_count": 7,
   "metadata": {},
   "outputs": [
    {
     "name": "stdout",
     "output_type": "stream",
     "text": [
      "[[3, 17, 50, 16, 4, 54, 8, 6, 19, 2], [11, 28, 34, 24, 22, 56, 41, 20, 9, 26], [27, 51, 39, 23, 20, 22, 10, 47, 56, 43], [20, 60, 24, 50, 56, 40, 46, 45, 15, 44], [54, 51, 17, 33, 2, 47, 22, 31, 37, 4]]\n"
     ]
    }
   ],
   "source": [
    "# For debugging:\n",
    "hand_set = []\n",
    "for i in range(5):\n",
    "    hand_set.append(gen_hand(10))\n",
    "\n",
    "print (hand_set)"
   ]
  },
  {
   "cell_type": "code",
   "execution_count": 43,
   "metadata": {},
   "outputs": [
    {
     "name": "stdout",
     "output_type": "stream",
     "text": [
      "1\n",
      "0\n"
     ]
    }
   ],
   "source": [
    "# DEBUG 2:\n",
    "print (check_racko([1,2,3,4,5,6,7,8,9,10]))\n",
    "print (check_racko([10,9,8,7,6,5,4,3,2,1]))"
   ]
  }
 ],
 "metadata": {
  "kernelspec": {
   "display_name": "Python 3",
   "language": "python",
   "name": "python3"
  },
  "language_info": {
   "codemirror_mode": {
    "name": "ipython",
    "version": 3
   },
   "file_extension": ".py",
   "mimetype": "text/x-python",
   "name": "python",
   "nbconvert_exporter": "python",
   "pygments_lexer": "ipython3",
   "version": "3.6.4"
  }
 },
 "nbformat": 4,
 "nbformat_minor": 1
}
